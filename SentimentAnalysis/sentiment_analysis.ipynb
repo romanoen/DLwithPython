{
 "cells": [
  {
   "cell_type": "code",
   "execution_count": 1,
   "metadata": {},
   "outputs": [
    {
     "name": "stdout",
     "output_type": "stream",
     "text": [
      "WARNING:tensorflow:From c:\\Users\\maxmi\\AppData\\Local\\Programs\\Python\\Python39\\lib\\site-packages\\tf_keras\\src\\losses.py:2976: The name tf.losses.sparse_softmax_cross_entropy is deprecated. Please use tf.compat.v1.losses.sparse_softmax_cross_entropy instead.\n",
      "\n"
     ]
    },
    {
     "name": "stderr",
     "output_type": "stream",
     "text": [
      "c:\\Users\\maxmi\\AppData\\Local\\Programs\\Python\\Python39\\lib\\site-packages\\tqdm\\auto.py:21: TqdmWarning: IProgress not found. Please update jupyter and ipywidgets. See https://ipywidgets.readthedocs.io/en/stable/user_install.html\n",
      "  from .autonotebook import tqdm as notebook_tqdm\n"
     ]
    }
   ],
   "source": [
    "import tensorflow as tf\n",
    "from tensorflow import keras\n",
    "import tensorflow_datasets as tfds\n",
    "import matplotlib.pyplot as plt"
   ]
  },
  {
   "cell_type": "markdown",
   "metadata": {},
   "source": [
    "# Import der Daten\n",
    "Der bereits vorgestellte IMDb Datensatz ist im tensorflow_dataset zur verfügung gestellt und wir hier erstmals geladen.\n"
   ]
  },
  {
   "cell_type": "code",
   "execution_count": 2,
   "metadata": {},
   "outputs": [],
   "source": [
    "# Laden der IMDB Reviews-Daten mit Infos und als betreute Daten (X, y)\n",
    "datasets, info = tfds.load(\"imdb_reviews\", as_supervised=True, with_info=True)\n",
    "\n",
    "# Anzahl der Trainingsbeispiele aus den Datensatz holen\n",
    "train_size = info.splits[\"train\"].num_examples"
   ]
  },
  {
   "cell_type": "markdown",
   "metadata": {},
   "source": [
    "## Vorverarbeitung der Daten\n",
    "\n",
    "## Aufgabe 1:\n",
    "Schreibe die Funktion preprocess fertig die Folgende Dinge gemäß der Präsentation macht:<br>\n",
    "1. Länge auf 300 chars kürzen <br>\n",
    "2. alle html Tags ersetzt <br>\n",
    "3. alle Satzzeichen bis auf Buchstaben und Apostrophe ersetzt <br>\n",
    "<br>\n",
    "\n",
    "Hint: Dafür sind die Funktionen tf.strings.substr und tf.strings.regex_replace hilfreich"
   ]
  },
  {
   "cell_type": "code",
   "execution_count": 3,
   "metadata": {},
   "outputs": [],
   "source": [
    "def preprocess(X_batch, y_batch):\n",
    "    #To Do:\n",
    "    X_batch = \n",
    "    X_batch = \n",
    "    X_batch = \n",
    "    # Aufteilen der Strings in einzelne Wörter\n",
    "    X_batch = tf.strings.split(X_batch)\n",
    "    return X_batch.to_tensor(default_value=b\"<pad>\"), y_batch"
   ]
  },
  {
   "cell_type": "markdown",
   "metadata": {},
   "source": [
    "<h3> Aufkommen der Wörter zählen</h3>\n",
    "In Batches der Größe 32 aufteilen - Ein Batch enthält 32 Reviews <br>\n",
    "Anschließend wird das Aufkommen der verschiedenen Wörter gezählt und gespeichert"
   ]
  },
  {
   "cell_type": "code",
   "execution_count": 4,
   "metadata": {},
   "outputs": [
    {
     "data": {
      "text/plain": [
       "[(b'<pad>', 214309), (b'the', 61137), (b'a', 38564)]"
      ]
     },
     "execution_count": 4,
     "metadata": {},
     "output_type": "execute_result"
    }
   ],
   "source": [
    "from collections import Counter\n",
    "\n",
    "# Vokabular initialisieren\n",
    "vocabulary = Counter()\n",
    "\n",
    "# Durchlaufen der Trainingsdaten in Batches von 32 und Anwenden der preprocess-Funktion\n",
    "for X_batch, y_batch in datasets[\"train\"].batch(32).map(preprocess):\n",
    "    # Für jede Rezension im Batch\n",
    "    for review in X_batch:\n",
    "        # Vokabular mit den Wörtern der Rezension aktualisieren\n",
    "        vocabulary.update(list(review.numpy()))\n",
    "\n",
    "# Die drei häufigsten Wörter im Vokabular anzeigen\n",
    "vocabulary.most_common()[:3]"
   ]
  },
  {
   "cell_type": "markdown",
   "metadata": {},
   "source": [
    "Hier wird die Vokabulargröße auf 10.000 Wörter festgelegt und Wörter entsprechend der Frequenz zugeordnet."
   ]
  },
  {
   "cell_type": "code",
   "execution_count": 5,
   "metadata": {},
   "outputs": [],
   "source": [
    "vocab_size = 10000\n",
    "truncated_vocabulary = [\n",
    "    word for word, count in vocabulary.most_common()[:vocab_size]]"
   ]
  },
  {
   "cell_type": "markdown",
   "metadata": {},
   "source": [
    "<h3>Lookup Tabelle erstellen und Word ID's und OOV-Buckets mappen</3>"
   ]
  },
  {
   "cell_type": "code",
   "execution_count": 6,
   "metadata": {},
   "outputs": [],
   "source": [
    "# Konvertieren der Wörter des gekürzten Vokabulars in ein Tensor\n",
    "words = tf.constant(truncated_vocabulary)\n",
    "\n",
    "# Erzeugen einer Liste von IDs für die Wörter\n",
    "word_ids = tf.range(len(truncated_vocabulary), dtype=tf.int64)\n",
    "\n",
    "# Initialisieren der Lookup-Tabelle mit Wörtern und deren IDs\n",
    "vocab_init = tf.lookup.KeyValueTensorInitializer(words, word_ids)\n",
    "\n",
    "# Anzahl der Buckets für unbekannte Wörter festlegen\n",
    "num_oov_buckets = 1000\n",
    "\n",
    "# Erstellen einer statischen Vokabulartabelle mit Unterstützung für unbekannte Wörter\n",
    "table = tf.lookup.StaticVocabularyTable(vocab_init, num_oov_buckets)\n"
   ]
  },
  {
   "cell_type": "markdown",
   "metadata": {},
   "source": [
    "<h3>Beispielhafte Codierung</h3>"
   ]
  },
  {
   "cell_type": "code",
   "execution_count": 7,
   "metadata": {},
   "outputs": [
    {
     "data": {
      "text/plain": [
       "<tf.Tensor: shape=(1, 4), dtype=int64, numpy=array([[   22,    12,    11, 10053]], dtype=int64)>"
      ]
     },
     "execution_count": 7,
     "metadata": {},
     "output_type": "execute_result"
    }
   ],
   "source": [
    "table.lookup(tf.constant([b\"This movie was faaaaaantastic\".split()]))"
   ]
  },
  {
   "cell_type": "markdown",
   "metadata": {},
   "source": [
    "<h3>Trainingsdatensatz erstellen</h3>"
   ]
  },
  {
   "cell_type": "code",
   "execution_count": 8,
   "metadata": {},
   "outputs": [],
   "source": [
    "# Funktion zum Kodieren der Wörter\n",
    "def encode_words(X_batch, y_batch):\n",
    "    # Wörter in IDs umwandeln und Labels unverändert zurückgeben\n",
    "    return table.lookup(X_batch), y_batch\n",
    "\n",
    "# Trainingsdatensatz in Batches von 32 aufteilen und preprocess-Funktion anwenden\n",
    "train_set = datasets[\"train\"].batch(32).map(preprocess)\n",
    "\n",
    "# Wörter im Trainingsdatensatz kodieren und Daten für effizienteres Training vorab laden\n",
    "train_set = train_set.map(encode_words).prefetch(1)"
   ]
  },
  {
   "cell_type": "markdown",
   "metadata": {},
   "source": [
    "## Checkpoint: Erste Hälfte geschafft, jetzt geht die Präsentation erstmal weiter"
   ]
  },
  {
   "cell_type": "markdown",
   "metadata": {},
   "source": [
    "<h3>Netzwerk Konstruieren</h3>"
   ]
  },
  {
   "cell_type": "markdown",
   "metadata": {},
   "source": [
    "## Aufgabe 2:\n",
    "\n",
    "Füge die beiden GRU-Layer entsprechend der Präsentation ein\n",
    "\n",
    "Hint: Dazu hilft die Dokumentation von keras.layers.GRU()"
   ]
  },
  {
   "cell_type": "code",
   "execution_count": 9,
   "metadata": {},
   "outputs": [
    {
     "name": "stdout",
     "output_type": "stream",
     "text": [
      "Epoch 1/4\n"
     ]
    },
    {
     "name": "stderr",
     "output_type": "stream",
     "text": [
      "c:\\Users\\maxmi\\AppData\\Local\\Programs\\Python\\Python39\\lib\\site-packages\\keras\\src\\layers\\core\\embedding.py:93: UserWarning: Do not pass an `input_shape`/`input_dim` argument to a layer. When using Sequential models, prefer using an `Input(shape)` object as the first layer in the model instead.\n",
      "  super().__init__(**kwargs)\n"
     ]
    },
    {
     "name": "stdout",
     "output_type": "stream",
     "text": [
      "\u001b[1m782/782\u001b[0m \u001b[32m━━━━━━━━━━━━━━━━━━━━\u001b[0m\u001b[37m\u001b[0m \u001b[1m98s\u001b[0m 121ms/step - accuracy: 0.5377 - loss: 0.6757\n",
      "Epoch 2/4\n",
      "\u001b[1m782/782\u001b[0m \u001b[32m━━━━━━━━━━━━━━━━━━━━\u001b[0m\u001b[37m\u001b[0m \u001b[1m76s\u001b[0m 97ms/step - accuracy: 0.7958 - loss: 0.4417\n",
      "Epoch 3/4\n",
      "\u001b[1m782/782\u001b[0m \u001b[32m━━━━━━━━━━━━━━━━━━━━\u001b[0m\u001b[37m\u001b[0m \u001b[1m91s\u001b[0m 117ms/step - accuracy: 0.8885 - loss: 0.2762\n",
      "Epoch 4/4\n",
      "\u001b[1m782/782\u001b[0m \u001b[32m━━━━━━━━━━━━━━━━━━━━\u001b[0m\u001b[37m\u001b[0m \u001b[1m91s\u001b[0m 117ms/step - accuracy: 0.9374 - loss: 0.1726\n"
     ]
    }
   ],
   "source": [
    "embed_size = 128\n",
    "# Modell mit Sequenziellen Schichten definieren\n",
    "model = keras.models.Sequential([\n",
    "    # Embedding-Schicht hinzufügen, die Wörter in dichte Vektoren umwandelt\n",
    "    keras.layers.Embedding(vocab_size + num_oov_buckets, embed_size,\n",
    "    input_shape=[None]),\n",
    "    #To Do:\n",
    "    # GRU Layer 1\n",
    "    \n",
    "    # GRU Layer 2\n",
    "    \n",
    "    # Dichte Schicht mit einem Neuron und Sigmoid-Aktivierung für binäre Klassifikation\n",
    "    keras.layers.Dense(1, activation=\"sigmoid\")\n",
    "])\n",
    "model.compile(loss=\"binary_crossentropy\", optimizer=\"adam\",\n",
    "    metrics=[\"accuracy\"])\n",
    "# Modell auf dem Trainingsdatensatz trainieren für 5 Epochen\n",
    "history = model.fit(train_set, epochs=4)"
   ]
  },
  {
   "cell_type": "markdown",
   "metadata": {},
   "source": [
    "<h3>Plotten der performance</h3>"
   ]
  },
  {
   "cell_type": "code",
   "execution_count": 10,
   "metadata": {},
   "outputs": [
    {
     "data": {
      "image/png": "[encoded data removed]",
      "text/plain": [
       "<Figure size 1200x600 with 2 Axes>"
      ]
     },
     "metadata": {},
     "output_type": "display_data"
    }
   ],
   "source": [
    "accuracy = history.history['accuracy']\n",
    "loss = history.history['loss']\n",
    "\n",
    "epochs = range(1, len(accuracy) + 1)\n",
    "\n",
    "plt.figure(figsize=(12, 6))\n",
    "\n",
    "plt.subplot(1, 2, 1)\n",
    "plt.plot(epochs, accuracy, 'b', label='Training Accuracy')\n",
    "plt.title('Training Accuracy')\n",
    "plt.xlabel('Epochs')\n",
    "plt.ylabel('Accuracy')\n",
    "plt.legend()\n",
    "\n",
    "plt.subplot(1, 2, 2)\n",
    "plt.plot(epochs, loss, 'r', label='Training Loss')\n",
    "plt.title('Training Loss')\n",
    "plt.xlabel('Epochs')\n",
    "plt.ylabel('Loss')\n",
    "plt.legend()\n",
    "\n",
    "plt.tight_layout()\n",
    "plt.show()"
   ]
  },
  {
   "cell_type": "markdown",
   "metadata": {},
   "source": [
    "## Testbereich\n",
    "Hier könnt ihr ein wenig mit eurem selbst erstellten Netzwerk für die Sentiment Analyse herumexperimentieren!"
   ]
  },
  {
   "cell_type": "code",
   "execution_count": 14,
   "metadata": {},
   "outputs": [
    {
     "name": "stdout",
     "output_type": "stream",
     "text": [
      "\u001b[1m1/1\u001b[0m \u001b[32m━━━━━━━━━━━━━━━━━━━━\u001b[0m\u001b[37m\u001b[0m \u001b[1m0s\u001b[0m 74ms/step\n",
      "Vorhersage für den Satz 'The movie was the worst I have ever seen<br></br>': 0.0069\n"
     ]
    }
   ],
   "source": [
    "example_sentence = \"The movie was the worst I have ever seen<br></br>\"\n",
    "\n",
    "# Preprocessing des Beispielsatzes\n",
    "def preprocess_sentence(sentence):\n",
    "    sentence = tf.strings.substr(sentence, 0, 300)\n",
    "    sentence = tf.strings.regex_replace(sentence, b\"<br\\\\s*/?>\", b\" \")\n",
    "    sentence = tf.strings.regex_replace(sentence, b\"[^a-zA-Z']\", b\" \")\n",
    "    sentence = tf.strings.split(sentence)\n",
    "    return sentence.to_tensor(default_value=b\"<pad>\")\n",
    "\n",
    "# Encodieren des Beispielsatzes\n",
    "def encode_sentence(sentence):\n",
    "    preprocessed_sentence = preprocess_sentence(sentence)\n",
    "    encoded_sentence = table.lookup(preprocessed_sentence)\n",
    "    #print(encoded_sentence)\n",
    "    return encoded_sentence\n",
    "\n",
    "# Vorhersage für den Beispielsatz\n",
    "def predict_sentence(sentence):\n",
    "    encoded_sentence = encode_sentence(tf.constant([sentence]))\n",
    "    prediction = model.predict(encoded_sentence)\n",
    "    return prediction\n",
    "\n",
    "# Vorhersage für den Beispielhafter Satz\n",
    "prediction = predict_sentence(example_sentence)\n",
    "\n",
    "print(f\"Vorhersage für den Satz '{example_sentence}': {prediction[0][0]:.4f}\")"
   ]
  }
 ],
 "metadata": {
  "kernelspec": {
   "display_name": "Python 3",
   "language": "python",
   "name": "python3"
  },
  "language_info": {
   "codemirror_mode": {
    "name": "ipython",
    "version": 3
   },
   "file_extension": ".py",
   "mimetype": "text/x-python",
   "name": "python",
   "nbconvert_exporter": "python",
   "pygments_lexer": "ipython3",
   "version": "3.9.4"
  }
 },
 "nbformat": 4,
 "nbformat_minor": 2
}
