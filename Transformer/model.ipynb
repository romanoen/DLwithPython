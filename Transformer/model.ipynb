{
 "cells": [
  {
   "cell_type": "code",
   "execution_count": 41,
   "metadata": {},
   "outputs": [],
   "source": [
    "import tensorflow as tf\n",
    "from tensorflow import keras\n",
    "import numpy as np\n",
    "\n"
   ]
  },
  {
   "cell_type": "code",
   "execution_count": 38,
   "metadata": {},
   "outputs": [],
   "source": [
    "class InputEmbeddings(tf.keras.layers.Layer):\n",
    "    \n",
    "    def __init__(self, d_model: int, vocab_size: int) -> None:\n",
    "        super(InputEmbeddings, self).__init__()\n",
    "        self.d_model = d_model\n",
    "        self.vocab_size = vocab_size\n",
    "        self.embedding = tf.keras.layers.Embedding(vocab_size, d_model)\n",
    "        self.scale = tf.math.sqrt(tf.cast(d_model, tf.float32))\n",
    "\n",
    "    def call(self, x):\n",
    "        return self.embedding(x) * self.scale"
   ]
  },
  {
   "cell_type": "code",
   "execution_count": 75,
   "metadata": {},
   "outputs": [
    {
     "name": "stdout",
     "output_type": "stream",
     "text": [
      "Sentence:  ein Auto ist ein Fahrzeug\n",
      "\n",
      "Embeddings:  tf.Tensor(\n",
      "[[ 0.09785492 -0.03037474 -0.09098981  0.04843877]\n",
      " [ 0.00960038 -0.02764299 -0.00800388 -0.02333073]\n",
      " [-0.09946199  0.05157394  0.01916969 -0.05175848]\n",
      " [ 0.09785492 -0.03037474 -0.09098981  0.04843877]\n",
      " [-0.04503598 -0.08140297  0.02909774  0.06131718]], shape=(5, 4), dtype=float32)\n"
     ]
    }
   ],
   "source": [
    "# test it out\n",
    "\n",
    "sentence = \"ein Auto ist ein Fahrzeug\"\n",
    "\n",
    "# Simulate Tokens and Vocabulary\n",
    "vocab = {\"ein\": 1, \"Auto\": 2, \"ist\":3, \"Fahrzeug\": 4}\n",
    "tokens = [vocab[word] for word in sentence.split()]\n",
    "\n",
    "# Convert to tensor\n",
    "token_tensor = tf.constant(tokens, dtype=tf.int32)\n",
    "\n",
    "# Parameters\n",
    "d_model = 4  # Dimension of Embeddings\n",
    "vocab_size = len(vocab) + 1  # Size of Vocabulary\n",
    "\n",
    "# Create Object from above class\n",
    "embedding_layer = InputEmbeddings(d_model, vocab_size)\n",
    "\n",
    "# Invoke the the tokens\n",
    "embeddings = embedding_layer(token_tensor)\n",
    "\n",
    "# Ausgabe der Embeddings\n",
    "print(\"Sentence: \", sentence)\n",
    "print()\n",
    "print(\"Embeddings: \", embeddings)"
   ]
  },
  {
   "cell_type": "code",
   "execution_count": 77,
   "metadata": {},
   "outputs": [],
   "source": [
    "class PositionalEncoding(tf.keras.layers.Layer):\n",
    "\n",
    "    def __init__(self, d_model: int, seq_len: int, dropout: float) -> None:\n",
    "        super(PositionalEncoding, self).__init__()\n",
    "        self.d_model = d_model\n",
    "        self.seq_len = seq_len\n",
    "        self.dropout = tf.keras.layers.Dropout(dropout)\n",
    "\n",
    "        pe = np.zeros((seq_len, d_model))\n",
    "\n",
    "        position = np.arange(seq_len)[:, np.newaxis]\n",
    "        div_term = np.exp(np.arange(0, d_model, 2) * -(np.log(10000.0) / d_model))\n",
    "\n",
    "        pe[:, 0::2] = np.sin(position * div_term)\n",
    "        pe[:, 1::2] = np.cos(position * div_term)\n",
    "\n",
    "        self.pe = tf.constant(pe[np.newaxis, ...], dtype=tf.float32)\n",
    "\n",
    "    def call(self, x):\n",
    "        x = x + self.pe[:, :tf.shape(x)[1], :]\n",
    "        return self.dropout(x), self.pe[:, :tf.shape(x)[1], :]"
   ]
  },
  {
   "cell_type": "code",
   "execution_count": 78,
   "metadata": {},
   "outputs": [
    {
     "name": "stdout",
     "output_type": "stream",
     "text": [
      "Sentence:  ein Auto ist ein Fahrzeug\n",
      "\n",
      "Embeddings:  tf.Tensor(\n",
      "[[ 0.09785492 -0.03037474 -0.09098981  0.04843877]\n",
      " [ 0.00960038 -0.02764299 -0.00800388 -0.02333073]\n",
      " [-0.09946199  0.05157394  0.01916969 -0.05175848]\n",
      " [ 0.09785492 -0.03037474 -0.09098981  0.04843877]\n",
      " [-0.04503598 -0.08140297  0.02909774  0.06131718]], shape=(5, 4), dtype=float32)\n",
      "\n",
      "+\n",
      "\n",
      "Position Encodes:  tf.Tensor(\n",
      "[[[ 0.          1.          0.          1.        ]\n",
      "  [ 0.84147096  0.5403023   0.00999983  0.99995   ]\n",
      "  [ 0.9092974  -0.41614684  0.01999867  0.9998    ]\n",
      "  [ 0.14112    -0.9899925   0.0299955   0.99955004]\n",
      "  [-0.7568025  -0.6536436   0.03998933  0.9992001 ]]], shape=(1, 5, 4), dtype=float32)\n",
      "\n",
      "=\n",
      "\n",
      "Encoded Embeddings:  tf.Tensor(\n",
      "[[[ 0.09785492  0.96962523 -0.09098981  1.0484388 ]\n",
      "  [ 0.85107136  0.5126593   0.00199596  0.97661924]\n",
      "  [ 0.80983543 -0.3645729   0.03916835  0.94804156]\n",
      "  [ 0.23897493 -1.0203673  -0.0609943   1.0479888 ]\n",
      "  [-0.80183846 -0.73504657  0.06908707  1.0605173 ]]], shape=(1, 5, 4), dtype=float32)\n"
     ]
    }
   ],
   "source": [
    "# test it out\n",
    "\n",
    "seq_len = len(tokens)\n",
    "dropout_rate = 0.1\n",
    "\n",
    "\n",
    "# Erstelle das PositionalEncoding-Objekt\n",
    "pos_encoding_layer = PositionalEncoding(d_model, seq_len, dropout_rate)\n",
    "\n",
    "# Wende Positional Encoding auf die Embeddings an\n",
    "encoded_embeddings = pos_encoding_layer(tf.expand_dims(embeddings, axis=0))\n",
    "\n",
    "print(\"Sentence: \", sentence)\n",
    "print()\n",
    "print(\"Embeddings: \", embeddings)\n",
    "print()\n",
    "print(\"+\")\n",
    "print()\n",
    "print(\"Position Encodes: \", encoded_embeddings[1])\n",
    "print()\n",
    "print(\"=\")\n",
    "print()\n",
    "print(\"Encoded Embeddings: \", encoded_embeddings[0])\n"
   ]
  },
  {
   "cell_type": "code",
   "execution_count": 16,
   "metadata": {},
   "outputs": [],
   "source": [
    "class LayerNormalization(tf.keras.layers.Layer):\n",
    "    \n",
    "    def __init__(self, features: int, eps:float=10**-6) -> None:\n",
    "        super(LayerNormalization, self).__init__()\n",
    "        self.eps = eps\n",
    "        self.alpha = tf.Variable(tf.ones(features)) # learnable parameter\n",
    "        self.bias = tf.Variable(tf.zeros(features)) # learnable parameter\n",
    "    \n",
    "    def forward(self, x):\n",
    "\n",
    "        mean = x.mean(dim = -1 , keepdim = True)\n",
    "\n",
    "        std = x.std(dim = -1, keepdim = True)\n",
    "\n",
    "        return self.alpha * (x - mean) / (std + self.eps) + self.bias\n"
   ]
  },
  {
   "cell_type": "code",
   "execution_count": 17,
   "metadata": {},
   "outputs": [],
   "source": [
    "class FeedForwardBlock(tf.keras.layers.Layer):\n",
    "\n",
    "    def __init__(self, d_model: int, d_ff: int, dropout: float): \n",
    "        super(FeedForwardBlock, self).__init__()\n",
    "        self.linear_1 = tf.keras.layers.Dense(d_ff, activation=\"relu\")\n",
    "        self.dropout = tf.keras.layers.Dropout(dropout)\n",
    "        self.linear_2 = tf.keras.layers.Dense(d_model)\n",
    "    \n",
    "    def forward(self, x):\n",
    "        output = self.linear_2(self.dropout(self.linear_1(x)))\n",
    "        return output\n",
    "\n"
   ]
  }
 ],
 "metadata": {
  "kernelspec": {
   "display_name": "Python 3",
   "language": "python",
   "name": "python3"
  },
  "language_info": {
   "codemirror_mode": {
    "name": "ipython",
    "version": 3
   },
   "file_extension": ".py",
   "mimetype": "text/x-python",
   "name": "python",
   "nbconvert_exporter": "python",
   "pygments_lexer": "ipython3",
   "version": "3.12.4"
  }
 },
 "nbformat": 4,
 "nbformat_minor": 2
}
